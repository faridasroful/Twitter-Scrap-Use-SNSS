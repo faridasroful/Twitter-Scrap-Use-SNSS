{
  "nbformat": 4,
  "nbformat_minor": 0,
  "metadata": {
    "colab": {
      "provenance": []
    },
    "kernelspec": {
      "name": "python3",
      "display_name": "Python 3"
    },
    "language_info": {
      "name": "python"
    }
  },
  "cells": [
    {
      "cell_type": "markdown",
      "source": [
        "# <h1>Scrapping Twitter</h1>"
      ],
      "metadata": {
        "id": "MyouOYn62FGP"
      }
    },
    {
      "cell_type": "markdown",
      "source": [
        "\n",
        "\n",
        "*   **Instal Library Snscrape**\n",
        "\n"
      ],
      "metadata": {
        "id": "evshh0V-2QZN"
      }
    },
    {
      "cell_type": "code",
      "execution_count": 31,
      "metadata": {
        "colab": {
          "base_uri": "https://localhost:8080/"
        },
        "id": "dopxm8myrjxF",
        "outputId": "9b04c9cd-8534-4d31-fc77-078c9354cae2"
      },
      "outputs": [
        {
          "output_type": "stream",
          "name": "stdout",
          "text": [
            "Looking in indexes: https://pypi.org/simple, https://us-python.pkg.dev/colab-wheels/public/simple/\n",
            "Requirement already satisfied: snscrape in /usr/local/lib/python3.7/dist-packages (0.3.4)\n",
            "Requirement already satisfied: beautifulsoup4 in /usr/local/lib/python3.7/dist-packages (from snscrape) (4.6.3)\n",
            "Requirement already satisfied: lxml in /usr/local/lib/python3.7/dist-packages (from snscrape) (4.9.1)\n",
            "Requirement already satisfied: requests[socks] in /usr/local/lib/python3.7/dist-packages (from snscrape) (2.23.0)\n",
            "Requirement already satisfied: chardet<4,>=3.0.2 in /usr/local/lib/python3.7/dist-packages (from requests[socks]->snscrape) (3.0.4)\n",
            "Requirement already satisfied: idna<3,>=2.5 in /usr/local/lib/python3.7/dist-packages (from requests[socks]->snscrape) (2.10)\n",
            "Requirement already satisfied: certifi>=2017.4.17 in /usr/local/lib/python3.7/dist-packages (from requests[socks]->snscrape) (2022.9.24)\n",
            "Requirement already satisfied: urllib3!=1.25.0,!=1.25.1,<1.26,>=1.21.1 in /usr/local/lib/python3.7/dist-packages (from requests[socks]->snscrape) (1.24.3)\n",
            "Requirement already satisfied: PySocks!=1.5.7,>=1.5.6 in /usr/local/lib/python3.7/dist-packages (from requests[socks]->snscrape) (1.7.1)\n"
          ]
        }
      ],
      "source": [
        "!pip3 install snscrape"
      ]
    },
    {
      "cell_type": "markdown",
      "source": [
        "Fungsi : Untuk mengambil data pada jejaring sosial, seperti profil, tagar, atau pencarian pengguna dan mengembalikan item yang ditemukan."
      ],
      "metadata": {
        "id": "4r7UfmRt2yX3"
      }
    },
    {
      "cell_type": "markdown",
      "source": [
        "\n",
        "\n",
        "*   **Instal Library Langdetect**\n",
        "\n"
      ],
      "metadata": {
        "id": "g3QA53HF3Lji"
      }
    },
    {
      "cell_type": "code",
      "source": [
        "pip install langdetect"
      ],
      "metadata": {
        "colab": {
          "base_uri": "https://localhost:8080/"
        },
        "id": "JnSgDOENsBDq",
        "outputId": "3f71bda9-3d14-4e68-af48-c31c3f1e64e6"
      },
      "execution_count": 32,
      "outputs": [
        {
          "output_type": "stream",
          "name": "stdout",
          "text": [
            "Looking in indexes: https://pypi.org/simple, https://us-python.pkg.dev/colab-wheels/public/simple/\n",
            "Requirement already satisfied: langdetect in /usr/local/lib/python3.7/dist-packages (1.0.9)\n",
            "Requirement already satisfied: six in /usr/local/lib/python3.7/dist-packages (from langdetect) (1.15.0)\n"
          ]
        }
      ]
    },
    {
      "cell_type": "markdown",
      "source": [
        "Fungsi : untuk mendeteksi bahasa dan mengubahnya supaya bisa dipahami  oleh phyton. Menghasilkan data text dan mengembalikannya ke dalam list tuples sesuai dengan max_num "
      ],
      "metadata": {
        "id": "nxrLEW4d3Yqg"
      }
    },
    {
      "cell_type": "code",
      "source": [
        "import snscrape.modules.twitter as sntwitter\n",
        "import json\n",
        "from langdetect import detect"
      ],
      "metadata": {
        "id": "9Ib0-pUjswwy"
      },
      "execution_count": 33,
      "outputs": []
    },
    {
      "cell_type": "code",
      "source": [],
      "metadata": {
        "id": "baDlqKfD_SJT"
      },
      "execution_count": 33,
      "outputs": []
    },
    {
      "cell_type": "markdown",
      "source": [
        "\n",
        "\n",
        "*   **Deklarasi syntax, kemudian masukan ke dalam \"datatw\"**\n"
      ],
      "metadata": {
        "id": "bT-D9yGz8bQR"
      }
    },
    {
      "cell_type": "code",
      "source": [
        "keywords=['Jakarta Marathon']\n",
        "start=\"2022–10–15\"\n",
        "end =\"2022–10–17\"\n",
        "max_num=99\n",
        "fname='tweet.json' \n",
        "languages=['id','en']"
      ],
      "metadata": {
        "id": "uvRYC49Ms4Oz"
      },
      "execution_count": 34,
      "outputs": []
    },
    {
      "cell_type": "code",
      "source": [
        "import pandas as pd\n",
        "datatw=[]"
      ],
      "metadata": {
        "id": "BYUjfIyIt8Tr"
      },
      "execution_count": 35,
      "outputs": []
    },
    {
      "cell_type": "code",
      "source": [
        "for keyword in keywords:\n",
        "   \n",
        "    for i, tweet in enumerate (sntwitter.TwitterSearchScraper(f'{keyword} ').get_items()):\n",
        "        \n",
        "        try:\n",
        "            lan=detect(tweet.content)\n",
        "        except:\n",
        "            lan='error'\n",
        "        if i == max_num:\n",
        "            break\n",
        "        if lan in languages:\n",
        "            data = {'id': tweet.id, 'username':tweet.username, 'date': tweet.date, 'text': tweet.content,'url':tweet.url}\n",
        "            \n",
        "            datatw.append(tweet.content)\n",
        "            with open(fname, 'a+', encoding='utf-8') as f:\n",
        "                line = json.dumps(data, ensure_ascii=False,default=str)\n",
        "                #print(line)\n",
        "                f.write(line)\n",
        "                f.write('\\n')"
      ],
      "metadata": {
        "id": "otogDHfKuBJK"
      },
      "execution_count": 36,
      "outputs": []
    },
    {
      "cell_type": "code",
      "source": [
        "datatw"
      ],
      "metadata": {
        "colab": {
          "base_uri": "https://localhost:8080/"
        },
        "id": "gX0ToPr3QugJ",
        "outputId": "ff75b7b3-0e4f-4e26-c44b-c1db7921db6b"
      },
      "execution_count": 37,
      "outputs": [
        {
          "output_type": "execute_result",
          "data": {
            "text/plain": [
              "['Odekta Ratu Marathon Indonesia Lahir di Event Dunia Jakarta\\xa0Marathon https://t.co/BahwVS3Arj',\n",
              " 'Curi Perhatian, 5 Gaya Centil Nia Ramadhani di Jakarta Marathon - https://t.co/PKCQ1FhBJb https://t.co/6eBtBII7Qp',\n",
              " 'Semoga tahun depan #jakartamarathon lebih baik lagi 🤙🏻 https://t.co/onUF9xKAab',\n",
              " 'bagaimana sih cara melihat official time resultnya @JakartaMarathon ?',\n",
              " 'Tak hanya Kia EV6 GT-line, Kia juga menghadirkan Kia Niro EV di event internasional ini sebagai Race Clock Car untuk menjaga udara tetap segar dan bebas emisi 😍\\n\\nKia Indomobil\\n\\n#JakartaMarathon2022 #JakartaMarathon #Jakarta #Marathon #MovementThatInspires',\n",
              " 'Menjadi suatu kebanggaan, Kia dapat mendukung event internasional Jakarta Marathon 2022 😊 https://t.co/HSs3zcQTbh',\n",
              " 'Jakarta (Marathon) memang brutal, tapi tetaplah berusaha menyebarkan cinta dan kasih sayang. #JakartaMarathon2022 https://t.co/ToCo8qLp9p',\n",
              " 'Menggelar Jakarta Marathon Pascapandemi, Apa Saja\\xa0Tantangannya? https://t.co/KYIOnCdWJa',\n",
              " 'Pelaksanaan Jakarta Marathon (Jakmar) ke-9 telah selesai dengan deretan catatan khusus dan beberapa kekurangan akibat minim pendanaan. #JakartaMarathon https://t.co/e6wR684nUu',\n",
              " 'Odekta Naibaho Jadi yang Tercepat di Jakarta Marathon.\\n\\n#bolaskorcom #jakartamarathon #marathon #atletik \\n\\nhttps://t.co/2JyLVMc03O',\n",
              " 'Event lari di tanah air jadi alternatif dalam membangun kebugaran masyarakat Jakarta. Kini event lari kembali mempersembahkan Jakarta Marathon 2022. Le Minerale mengambil perannya memenuhi kebutuhan asupan air mineral yang berkualitas bagi peserta marathon.\\n\\n#MedcomAd https://t.co/K3FhQAnDyK',\n",
              " 'Event lari di tanah air jadi alternatif dalam membangun kebugaran masyarakat Jakarta. Kini event lari kembali mempersembahkan Jakarta Marathon 2022. Le Minerale mengambil perannya memenuhi kebutuhan asupan air mineral yang berkualitas bagi peserta marathon.\\n\\n#MTVNAD https://t.co/8l8k2xXffq',\n",
              " 'Profil dan Biodata Odekta Naibaho: Juara Jakarta Marathon 2022 https://t.co/INiACpHvjj baca juga berita dari media lainnya di Indonesia di https://t.co/GkwQxScVr9 \\n\\n#profilodektanaibaho #biodataodektanaibaho #odektanaibahoelvina #juarajakartamarathon2022 #jakartamarathon2022',\n",
              " 'Atlet Binaan BIN Odekta Naibaho Juara Jakarta Marathon 2022 https://t.co/zVGPClNSZD',\n",
              " 'Mengenal Odekta Elvina Naibaho, atlet binaan BIN yang baru saja menjuarai ajang Jakarta Marathon 2022 pada Minggu (16/10). Ia juga merupakan peraih medali emas SEA Games Vietnam. #kumparanNEWS https://t.co/fUNo6DpODP',\n",
              " 'Mengenal Odekta Elvina Naibaho, atlet binaan BIN yang baru saja menjuarai ajang Jakarta Marathon 2022 pada Minggu (16/10). Ia juga merupakan peraih medali emas SEA Games Vietnam. #kumparanNEWS https://t.co/j6y9OqIrfP',\n",
              " '@ken_aryadharma @aniesbaswedan @DKIJakarta Org\" yg sdg berolahraga/lari marathon di CFd mengurungkan niatnya krn melihat Anies B utk berselfie ria.\\nMasyrkt jakarta jg tau mn yg bener dan mn yg pencitraan 😁😁😁😁😁.\\nGubernur berkelas tdk muncul dr gorong\". \\nAwal baik akhirpun baik.👍👍👍👍',\n",
              " 'Vietnam SEA Games Gold Medalist, Odekta Elvina Naibaho, won the 21-kilometer Half-Marathon category in the 2022 Jakarta Marathon event, which was held on Sunday (10/16) morning. \\n\\n#SEAToday #SEATodayNews #JakartaMarathon2022 https://t.co/VRD15F3mYg',\n",
              " 'Lubang menganga sabtu malam dilapor warga ke apps, minggu pagi lari pagi udah mulusssss. \\nEra Ahok. \\n\\nKemarin pelari2 jakarta marathon melintasi lubang2 gede ga pernah diperbaiki di sekitar stasiun LRT deket KPK. 3 Tahun bikin celaka (utamanya motor)\\n\\n*Foto milik hamba Allah https://t.co/Yg832OVijk https://t.co/I1Z5XGOf3w',\n",
              " 'Dua Tahun Vakum, Jakarta Marathon Kembali\\xa0Digelar https://t.co/GCtmeIliFC',\n",
              " 'Tentunya sama dengan teman teman yang lain, harapan saya kedepan Jakarta Marathon bisa lebih baik lagi dari segi persiapan, pelaksanaan dan lain sebagainya\\n\\nSudah selayaknya Ibu Kota Negara punya event marathon yang mumpuni dan berkelas\\n.\\nYuk JakMar bisa yuk!!!! ✊🏼😎',\n",
              " '5 kali ikutan Jakarta Marathon dan bersyukur bisa finish diurutan pertama (marathon nasional) dengan catatan waktu 2jam 37menit 9detik\\n.\\nEvent kali ini gak mau ikutan kasih review, cos udah diwakilin sama teman2 pelarian tanah air komplit dari A-Z https://t.co/Sj8Te9s3FW',\n",
              " 'Pengurus Provinsi PMI DKI Jakarta, Ketua bidang pelayanan kesehatan, dr. Sibrohmalisi hadir untuk mendukung dan memastikan pelayanan kesehatan yang diberikan kepada para peserta Jakarta Marathon berjalan dengan baik. https://t.co/pnOIEIaY2D',\n",
              " 'Jakarta Marathon 2022, Tim Posko PMI se-DKI Jakarta siaga pelayanan kesehatan\\n\\nTim pokso PMI se DKI Jakarta berjaga dalam memberikan pelayanan kesehatan pada acara Jakarta Marathon di Gelora Bung Karno, Minggu (16/10). https://t.co/UOh9YORnNe',\n",
              " '#selamatsiang @jakartamarathon',\n",
              " '@aniesbaswedan @DKIJakarta Pinter cari moment pas ada keramaian CFD dan Jakarta marathon... Makin kelihatan masif deh 🤭',\n",
              " 'Lubang menganga sabtu malam dilapor warga ke apps, minggu pagi lari pagi udah mulusssss. \\nEra Ahok. \\n\\nKemarin pelari2 jakarta marathon sendiri ngelintasi lubang2 gede ga pernah diperbaiki di sekitar stasiun LRT deket KPK. 3 Tahun bikin celaka (utamanya motor) https://t.co/Yg832OD95c',\n",
              " 'Jakarta marathon 2022 kemarin,\\nYee... PB 🎉🎉\\nMeskipun beda tipis tapi tetep personal best tercapai💖 https://t.co/uHjWab2HB9',\n",
              " 'Pelari Indonesia Odekta Naibaho Berhasil Kunci Gelar Juara Jakarta Marathon 2022 https://t.co/4MPlD0KH9b',\n",
              " 'Jakarta Marathon 2022 bukan hanya diikuti warga negara Indonesia. Sebanyak 864 warga negara asing dari 25 negara juga berpartisipasi. Total hadiah di acara ini disebut hingga Rp120 juta.\\n\\n#Temansandi #UnderTheQueensUmbrellaEp2 https://t.co/WigFKER9sp',\n",
              " 'Odekta Naibaho Berjaya di Jakarta Marathon 2022 - Bola https://t.co/pMdPLVO7wC https://t.co/6A2Z7iYCKO',\n",
              " 'Tercepat di Half Marathon, Odekta Meriahkan Jakarta Marathon\\xa02022 https://t.co/navxwbJ7GK',\n",
              " 'Sebanyak 864 warga negara asing dari 25 negara juga berpartisipasi dalam Jakarta Marathon 2022. Total hadiah di acara ini disebut hingga Rp120 juta\\n\\n#Temansandi #Sandiagauno #Sandiuno\\nFerdy Sambo Eriksen Liverpool Pinggang #HalaMadrid Mo Salah https://t.co/PLmgXakvgU',\n",
              " 'Sebanyak 864 warga negara asing dari 25 negara juga berpartisipasi dalam Jakarta Marathon 2022. Total hadiah di acara ini disebut hingga Rp120 juta\\n\\n#Temansandi #Sandiagauno #Sandiuno\\nFerdy Sambo Eriksen Liverpool Pinggang #HalaMadrid Mo Salah https://t.co/7CO3u4Syvk',\n",
              " 'Odekta Elvina Naibaho Juara 21 K Jakarta Marathon\\xa02022 https://t.co/aYdl9SbDAP',\n",
              " 'Odekta Elvina Naibaho Juara 21 K Jakarta Marathon\\xa02022 https://t.co/EYu6lF9Xxp',\n",
              " 'Peraih Medali Emas SEA Games 2021 Jadi yang Tercepat di Jakarta Marathon 2022 https://t.co/FR3gUAOXoF',\n",
              " 'Sandiaga  turut ucapkan rasa terima kasih kepada peserta Jakarta Marathon 2022. Menurutnya, dengan adanya para peserta yang mencapai 14.300 orang itu sudah mendukung program sport tourism, yang dicanangkan oleh pihak daerah.\\n\\n#Temansandi ( Pesantren Tebuireng ) ( El Rumi ) https://t.co/RlkMXCrMeh',\n",
              " '@TodiTwit Bang, update medal lagi, medalnya ada 2 tipe, yang bagus sama yg arsiran 🤣 aduh jakmar taun ini Jakarta Drama Marathon banget',\n",
              " 'Tahun ke tahun, warga pelari gak pernah belajar dari gak profesional nya jakarta marathon.',\n",
              " 'Jakarta Marathon 2022 dan Edukasi Pentingnya Pemenuhan Air Mineral bagi Tubuh https://t.co/jgkcbWfoLt baca juga berita dari media lainnya di Indonesia di https://t.co/GkwQxRUMd1 \\n\\n#jakartamarathon2022 #sandiagauno #odektaelvinanaibaho #dehidrasi',\n",
              " 'JakMar 2022\\nJakarta (makin) marah-marah apa mau kekeuh Jakarta Marathon? https://t.co/XmYAE08EaU',\n",
              " 'Usai Jakarta Marathon 2022, Odekta Naibaho Bidik Juara di SEA Games 2023 - Detik Sport #game #gamer https://t.co/8NWNfICSa3',\n",
              " 'Recap timeline, seminggu terakhir (versi gw):\\n- Leslar rujuk (?)\\n- Kapolda jatim ditangkep\\n- Jakarta marathon kacau\\n- AMI award dan abang2an skena lokal\\n- AB selesai menjabat',\n",
              " 'Le Minerale Dukung Gelaran Jakarta Marathon 2022 | https://t.co/i0mcx36QZe https://t.co/BkZdZEGR8W',\n",
              " 'Belum move on dr Jakarta marathon https://t.co/tyejhAYLMl',\n",
              " '@prettyrzn @collegemenfess Terakhir kmrn aku jadi Marshall Jakarta marathon kak',\n",
              " 'Tips Dokter Tirta Ikuti Jakarta Marathon 2022 - Investor Daily https://t.co/3bDrHl4Aak',\n",
              " 'Meriahkan Jakarta Marathon 2022, Odekta Naibaho Jadi Juara Kategori Half Marathon https://t.co/OAnDjvhI7H',\n",
              " 'Le Minerale Penuhi Asupan Mineral Essensial Pelari Jakarta Marathon 2022\\n\\n #Sindonews #BukanBeritaBiasa .https://t.co/GZ4y01uLwS',\n",
              " 'Setelah Jakarta Marathon 2022, Odikta Nippahu Menargetkan Untuk Memenangkan Pertandingan Angkatan Laut Pada Tahun\\xa02023 https://t.co/thW03juQrE',\n",
              " 'gak ada timer? HAHA. Terus pake jam masing2? ngaco jakarta marathon. https://t.co/4jolfXE3Py',\n",
              " 'Dukung Gaya Hidup Sehat, Allianz Hadir di Jakarta Marathon 2022\\n\\n #Sindonews #BukanBeritaBiasa .https://t.co/SuI1yWpHyL',\n",
              " 'Jakarta Marathon this morning.\\n Nicely done! 🥵🥵🥵\\n\\n#adidasrunners #adizeroadiospro https://t.co/LZHv8WGpcn',\n",
              " 'Jakarta Marathon 2022: Odekta Naibaho Jadi yang Tercepat di Half Marathon \\n\\n https://t.co/dEJeyyVBRl',\n",
              " 'gw yg ga ikutan jakarta marathon aja emosi denger curhatan runners yg join.. shame on you #JakartaMarathon2022',\n",
              " 'Odekta Elvina Naibaho berhasil meraih hasil manis di Jakarta Marathon 2022. Setelah hasil ini, dia ingin bidik sukses di SEA Games Kamboja dan Asian Games. https://t.co/C1Itz82fQn',\n",
              " 'Inilah Cara dr. Tirta Finish di Jakarta Marathon 2022   #IndonesiaMemanggil  #winmetawin\\nhttps://t.co/DHfllUJBGc',\n",
              " 'Atlet Indonesia Odekta Elvina Naibaho menjadi yang tercepat di lomba lari Jakarta Marathon 2022. Dia finis di urutan pertama kategori half marathon. https://t.co/aZhBJ1iu4r',\n",
              " 'Odekta Elvina Naibaho berhasil meraih hasil manis di Jakarta Marathon 2022. Setelah hasil ini, dia ingin bidik sukses di SEA Games Kamboja dan Asian Games. https://t.co/hwp36L5SfC',\n",
              " 'Allianz Indonesia x Jakarta Marathon 2022: Ingatkan Pentingnya Persiapan Hidup Layaknya Lari Marathon https://t.co/TFxZzLHQwy',\n",
              " 'Joined 10k nya Jakarta Marathon 2022. Rame beneeeer! Ga bisa lari di km awal saking padatnya. Bisa berkontemplasi hingga km ke 6. Km 7 merutuki kenapa pakai sepatu ini yang mengakibatkan lecet kaki. Setelah itu drama nyeri banget tapak kaki bagian dalam. Alhamdulillah bisa finish https://t.co/v17zLfYy9e',\n",
              " 'Ekspresi Peserta Jakarta Marathon 2022 di Tengah Lomba https://t.co/TEKurAlwUg #TempoFoto',\n",
              " '@HalsDemigod91 HARUSNYA IKUTAN INI JAKARTA MARATHON !! 😭😭😭',\n",
              " 'PERAIH medali emas pada pertandingan Sea Games Vietnam cabang olahraga lari maraton, Odekta Elvina Naibaho juara pertama pada Jakarta Marathon 2022 pada Minggu (16/10/2022).  https://t.co/rFxGgLNswQ',\n",
              " 'Virgin Marathon @JakartaMarathon 2022. Salah besar 20km pertama lari pace 6 kebawa pace kenceng😂 27.5km keatas tiap 2.5km di WS pasti mampir ke medic buat release otot😂 selalu semprot2 salonpas spray di setiap udh mulai ada yang tegang otot2 kaki.',\n",
              " 'Jakarta marathon cukup kacau sekelas event lari besar, gua bukan peserta tp temen temen lari atau peserta pd sharing banyak bgt keluhan, timer distart/finish gak ada gua dengernya aja kaget pokoknya masih banyak lagi masalah, tahun depan mungkin bakal sepi🙈',\n",
              " 'Jakarta Marathon 2022\\n\\nhttps://t.co/i38UzA5VDS',\n",
              " 'tencuu Jakarta Marathon 2022 https://t.co/ssFEqYuFxe',\n",
              " 'Very proud of myself❤️ fresh out of the hospital and anemic (my doctor actually didnt allow me to participate, but im quite stubborn so😂) but still made it to the finish line nonetheless hehe\\n\\nJakarta Marathon 2022\\n#REBORN https://t.co/hJ2GnWlv1c',\n",
              " 'Dukungan kesehatan AGD Dinkes DKI Jakarta pada kegiatan Jakarta Marathon 2022 yang diadakan di Kawasan GBK, Jakarta Pusat pada hari Minggu, 16 Oktober 2022. https://t.co/636KDcfq1A',\n",
              " 'Odekta Elvina Naibaho Menjadi yang Tercepat di Lomba Lari Jakarta Marathon 2022 https://t.co/EaBk1SJE2J',\n",
              " 'Mas GA hari ini ikut Jakarta Marathon 👍',\n",
              " '@yudiharahap46 Terakhir saya ikut jakarta marathon 2018(10 K),,,,rencana 2022 ikut lagi,tapi benar2 nggk tau infonya,,,selamat buat yg mengikuti 2022,,,,saya tunggu 2023',\n",
              " '@rinilucia GBK hari ini banyak banget sampahnya, karna ada 3 event di situ. Jalan sehat Golkar, maulid nabi, dan Jakarta Marathon. Tadi banyak banget sampahnya. Kalau maulid nabi di dalem istora, jd lebih terkontrol mungkin sampahnya.',\n",
              " 'Tercepat di Jakarta Marathon 2022, Odekta Jadikan Modal Persiapan SEA Games 2023 Kamboja https://t.co/Tkg1GNc0MB #GoRiau',\n",
              " 'The Jakarta Marathon is an annual international-scale running competition organised by the Jakarta government. https://t.co/QXSCeg1tEZ',\n",
              " '2023 ikut jakarta marathon',\n",
              " 'Juara di Jakarta Marathon, Odekta Kejar Medali Emas SEA Games 2023 https://t.co/JXj5Z3bYVR',\n",
              " 'Atlet Indonesia Odekta Elvina Naibaho menjadi yang tercepat di lomba lari Jakarta Marathon 2022. Dia finis di urutan pertama kategori half marathon. https://t.co/6GjBzXC3aC',\n",
              " 'Jakarta Marathon 2022: Odekta Naibaho Jadi yang Tercepat di Half Marathon https://t.co/DFd4PifQoZ baca juga berita dari media lainnya di Indonesia di https://t.co/GkwQxScVr9 \\n\\n#jakartamarathon #odektaelvinanaibaho #jakartamarathon2022',\n",
              " 'Catat Waktu Tercepat di Jakarta Marathon 2022, Modal Odekta Menuju SEA Games 2023 Kamboja https://t.co/ShJXxQ1h4H',\n",
              " 'Odekta Tampil Tercepat di Jakarta Marathon 2022 https://t.co/VSrlaVzBFn',\n",
              " 'itupun latian bagian atas aja, gak berani latian bagian bawah. Kemudian nyoba lari pertama kali setelah cukup yakin sembuh, tanggal 10 Oktober (5km). Sementara event #jakartamarathon tanggal 16 Oktober. Udah pesimis, hahahha. \\n\\nAkhirnya jualan di IG dan Twitter.',\n",
              " 'Tuntas #JakartaMarathon yang mengusung spirit sport tourism. Melihat dan merasakan dari dekat denyut jalanan Ibu Kota yang terasa pengap dikurung jalan layang. Sungguh destinasi sarat refleksi. https://t.co/wGjzJA0erX',\n",
              " 'Orang orang yang ikut jakarta marathon terus besoknya kerja apa tidak pegal pegal?',\n",
              " 'Beda ya, atmosfernya Amsterdam sama Jakarta Marathon',\n",
              " 'Pelaksanaan Jakarta Marathon 2022 👇👇\\n\\n#CaratSelcaDay\\n#IndonesiaMemanggil\\n#SEVENTEEN\\nEric\\n#KPWorldTourSeoul\\n#OCTOPOP2022\\nKevin\\n#MileApoxKPWTSeoul\\nOn Sunday, October 16, 2022, thousands of individuals participated in the Jakarta Marathon \\nhttps://t.co/WXLODJKOY5',\n",
              " 'Jakarta Marathon 2022: Odekta Naibaho Jadi yang Tercepat di Kategori Half\\xa0Marathon https://t.co/Tl5QNz1nom',\n",
              " 'Selama menggeluti olahraga lari, Odekta Naibaho berulang kali menjuarai dan mendapatkan medali emas di beberapa ajang bergengsi. #JakartaMarathon https://t.co/K2TG4ovo2X',\n",
              " '@NoonaaNaanaa hrsnya rajin grogol 1 &lt;=&gt; groģol 2 minimal 2x sehari\\nsiapa tau thn dpn bs ikut jakarta marathon 😄',\n",
              " 'Peraih Emas SEA Games Juara Jakarta Marathon 2022, Bawa Pulang Rp25 Juta - iNews https://t.co/O1IjbaBZ8R',\n",
              " 'Jakarta Marathon 2022 Diikuti 15.300 Peserta - Harian Terbit https://t.co/YEHGIYSawd',\n",
              " 'yuk bisa yuk jakarta marathon 2k23 https://t.co/I2fJwX3LD8',\n",
              " 'Medali Jakarta Marathon 2022 Kategori Half Marathon 21Km https://t.co/QlmU4D15C9',\n",
              " 'Hurray! Congratulations! We made it to the finish line of Jakarta Marathon 2022! Praise God for the safety and good weather. 🙏 🌸🌻💜❤ https://t.co/4cxeHy6nmo',\n",
              " 'Berita Bola Terkini Nova88 Indonesia Klik https://t.co/VsbRjz93WW : Jakarta Marathon 2022: Odekta Naibaho Tercepat, Gelar Juara Jadi Modal https://t.co/R4q9tiSQHB https://t.co/N9iL2A6dxU']"
            ]
          },
          "metadata": {},
          "execution_count": 37
        }
      ]
    },
    {
      "cell_type": "markdown",
      "source": [
        "\n",
        "\n",
        "*   **Cetak datatw yang belum di lakukan proses klastering menjadi csv file**"
      ],
      "metadata": {
        "id": "y_N4E2a59waj"
      }
    },
    {
      "cell_type": "code",
      "source": [
        "import pandas as pd\n",
        "SebelumKlaster = pd.DataFrame(datatw)\n",
        "SebelumKlaster.to_csv('Data_Sebelum_diklastering.csv', index = False)"
      ],
      "metadata": {
        "id": "KoUzrzkPyngi"
      },
      "execution_count": 38,
      "outputs": []
    },
    {
      "cell_type": "markdown",
      "source": [
        "\n",
        "\n",
        "*   **Instal Library Sastrawi**\n"
      ],
      "metadata": {
        "id": "9CtsVPHU-OSV"
      }
    },
    {
      "cell_type": "code",
      "source": [
        "!pip install sastrawi"
      ],
      "metadata": {
        "colab": {
          "base_uri": "https://localhost:8080/"
        },
        "id": "m2WcSg9PR_yQ",
        "outputId": "5795e4ea-8f1c-4f94-cb9b-3203e3cbeff1"
      },
      "execution_count": 39,
      "outputs": [
        {
          "output_type": "stream",
          "name": "stdout",
          "text": [
            "Looking in indexes: https://pypi.org/simple, https://us-python.pkg.dev/colab-wheels/public/simple/\n",
            "Requirement already satisfied: sastrawi in /usr/local/lib/python3.7/dist-packages (1.0.1)\n"
          ]
        }
      ]
    },
    {
      "cell_type": "markdown",
      "source": [
        "Fungsi : mengubah kata berimbuhan bahasa Indonesia menjadi bentuk dasarnya"
      ],
      "metadata": {
        "id": "nC11uISX-W9Z"
      }
    },
    {
      "cell_type": "markdown",
      "source": [
        "\n",
        "\n",
        "*   **melakukan proses stemming, penghilangan stopword (proses filtering), dan penghilangan karakter yang tidak bermakna**\n",
        "\n"
      ],
      "metadata": {
        "id": "jCrj9spF-9l3"
      }
    },
    {
      "cell_type": "code",
      "source": [
        "import re\n",
        "import string\n",
        "from Sastrawi.Stemmer.StemmerFactory import StemmerFactory# create stemmer\n",
        "factory = StemmerFactory()\n",
        "stemmer = factory.create_stemmer()# stemming process\n",
        "\n",
        "# import StopWordRemoverFactory class\n",
        "from Sastrawi.StopWordRemover.StopWordRemoverFactory import StopWordRemoverFactory\n",
        "factory = StopWordRemoverFactory()\n",
        "stopword = factory.create_stop_word_remover()\n",
        "\n",
        "documents_clean=[]\n",
        "\n",
        "for d in datatw:\n",
        "  \n",
        "  # Start Case Folding\n",
        "\n",
        "  # Remove Unicode\n",
        "  document_test = re.sub(r'[^\\x00-\\x7F]+', ' ', d)\n",
        "  # Remove URL\n",
        "  document_test = re.sub(r'http\\S+', '', document_test)\n",
        "  # Remove Mentions\n",
        "  document_test = re.sub(r'@\\w+', '', document_test)\n",
        "  # Lowercase the document\n",
        "  document_test = document_test.lower()\n",
        "  # Remove punctuations\n",
        "  document_test = re.sub(r'[%s]' % re.escape(string.punctuation), ' ', document_test)\n",
        "  # Remove the numbers\n",
        "  document_test = re.sub(r'[0-9]', '', document_test)\n",
        "  # Remove the doubled space\n",
        "  outputcase = re.sub(r'\\s{2,}', ' ', document_test)\n",
        "    \n",
        "  # End Case Folding\n",
        "    \n",
        "  # Proses Stemming\n",
        "  outputstem= stemmer.stem(outputcase)\n",
        "\n",
        "  # Proses Filtering (StopwordRemover)\n",
        "  outputstop = stopword.remove(outputstem)\n",
        "\n",
        "  documents_clean.append(outputstop)"
      ],
      "metadata": {
        "id": "Eo8ah8W_SdIA"
      },
      "execution_count": 40,
      "outputs": []
    },
    {
      "cell_type": "code",
      "source": [
        "documents_clean[0:10]"
      ],
      "metadata": {
        "colab": {
          "base_uri": "https://localhost:8080/"
        },
        "id": "e2PnLDZxTucg",
        "outputId": "573ab784-1ceb-4672-f397-f1ea0b60213f"
      },
      "execution_count": 41,
      "outputs": [
        {
          "output_type": "execute_result",
          "data": {
            "text/plain": [
              "['odekta ratu marathon indonesia lahir event dunia jakarta marathon',\n",
              " 'curi perhati gaya centil nia ramadhani jakarta marathon',\n",
              " 'moga tahun depan jakartamarathon lebih baik',\n",
              " 'bagaimana sih cara lihat official time resultnya',\n",
              " 'tak kia ev gt line kia hadir kia niro ev event internasional bagai race clock car jaga udara tetap segar bebas emisi kia indomobil jakartamarathon jakartamarathon jakarta marathon movementthatinspires',\n",
              " 'jadi suatu bangga kia dukung event internasional jakarta marathon',\n",
              " 'jakarta marathon memang brutal tetap usaha sebar cinta kasih sayang jakartamarathon',\n",
              " 'gelar jakarta marathon pascapandemi apa tantang',\n",
              " 'laksana jakarta marathon jakmar telah selesai deret catat khusus beberapa kurang akibat minim dana jakartamarathon',\n",
              " 'odekta naibaho jadi cepat jakarta marathon bolaskorcom jakartamarathon marathon atletik']"
            ]
          },
          "metadata": {},
          "execution_count": 41
        }
      ]
    },
    {
      "cell_type": "code",
      "source": [
        "import pandas as pd\n",
        "SesudahClean = pd.DataFrame(documents_clean)\n",
        "SesudahClean.to_csv('Data_yang_dapat_terbaca_di_Python.csv', index = False)"
      ],
      "metadata": {
        "id": "jjPD2URqbbyS"
      },
      "execution_count": 42,
      "outputs": []
    },
    {
      "cell_type": "markdown",
      "source": [
        "\n",
        "\n",
        "*   **Melakukan proses tf-idf**\n",
        "\n"
      ],
      "metadata": {
        "id": "O1xxLv3zA9i6"
      }
    },
    {
      "cell_type": "code",
      "source": [
        "from sklearn.feature_extraction.text import TfidfVectorizer\n",
        "import pandas as pd\n",
        "tfidfvectorizer = TfidfVectorizer(analyzer='word')\n",
        "tfidf_wm = tfidfvectorizer.fit_transform(documents_clean)\n",
        "tfidf_tokens = tfidfvectorizer.get_feature_names()"
      ],
      "metadata": {
        "id": "sMFuq5kzUoXV"
      },
      "execution_count": 43,
      "outputs": []
    },
    {
      "cell_type": "markdown",
      "source": [
        "Fungsi : untuk mencari makna kalimat yang terdiri dari kata-kata dan menghilangkan ketidakmampuan teknik **Bag of Words** (metode sederhana, hanya menghitung frekuensi kemunculan kata pada seluruh dokumen.) yang baik untuk klasifikasi teks maupun untuk membantu mesin membaca kata dalam angka"
      ],
      "metadata": {
        "id": "-tD2WjjkCI2R"
      }
    },
    {
      "cell_type": "markdown",
      "source": [
        "\n",
        "\n",
        "*   **Menampilkan Diagram Batang**"
      ],
      "metadata": {
        "id": "J7Rzwdh_FWDt"
      }
    },
    {
      "cell_type": "code",
      "source": [
        "from sklearn.feature_extraction.text import CountVectorizer \n",
        "import matplotlib.pyplot as plt\n",
        "import numpy as np # linear algebra\n",
        "import pandas as pd # data processing, CSV file I/O (e.g. pd.read_csv)\n",
        "cv = CountVectorizer()\n",
        "words = cv.fit_transform(documents_clean)\n",
        "sum_words = words.sum(axis=0)\n",
        "\n",
        "\n",
        "words_freq = [(word, sum_words[0, idx]) for word, idx in cv.vocabulary_.items()]\n",
        "words_freq = sorted(words_freq, key = lambda x: x[1], reverse = True)\n",
        "frequency = pd.DataFrame(words_freq, columns=['word', 'freq'])\n",
        "\n",
        "color = plt.cm.twilight(np.linspace(0, 1, 20))\n",
        "frequency.head(20).plot(x='word', y='freq', kind='bar', figsize=(22, 10), color = color)\n",
        "plt.title(\"Kata-Kata yang Sering Muncul - Top 20\")"
      ],
      "metadata": {
        "colab": {
          "base_uri": "https://localhost:8080/",
          "height": 712
        },
        "id": "x9duYQnlUpvO",
        "outputId": "e3a022b6-f1ae-4b5f-8a1f-7f51cef8698c"
      },
      "execution_count": 44,
      "outputs": [
        {
          "output_type": "execute_result",
          "data": {
            "text/plain": [
              "Text(0.5, 1.0, 'Kata-Kata yang Sering Muncul - Top 20')"
            ]
          },
          "metadata": {},
          "execution_count": 44
        },
        {
          "output_type": "display_data",
          "data": {
            "text/plain": [
              "<Figure size 1584x720 with 1 Axes>"
            ],
            "image/png": "[encoded data removed]"
          },
          "metadata": {
            "needs_background": "light"
          }
        }
      ]
    },
    {
      "cell_type": "markdown",
      "source": [
        "\n",
        "\n",
        "*   <h2><b>Proses Klastering</b></h2>\n"
      ],
      "metadata": {
        "id": "yHVyLlw2W40r"
      }
    },
    {
      "cell_type": "markdown",
      "source": [
        "\n",
        "\n",
        "*   **Metode K-Means**\n",
        "\n",
        "pada metode ini, dokumen akan dikelompokan setiap clusternya. Jadi konsepnya itu setiap label/kelompok data belum ditentukan di awal. Penentuan pengelompokan clusteringnya berdasarkan jarak terdekat terhadap Centroidnya (titik pusat). Menghitung centroid bisa menggunakan Rumus Euclidean Distance, kemudian setiap perubahan nilai centroid maka centroid yang akan bergerak ke titik pusat masing-masing datanya membentuk cluster-cluster baru."
      ],
      "metadata": {
        "id": "mRrJAmkisvHl"
      }
    },
    {
      "cell_type": "code",
      "source": [
        "from sklearn.cluster import KMeans\n",
        "true_k = 3\n",
        "model = KMeans(n_clusters=true_k, init='k-means++', max_iter=100, n_init=1)\n",
        "model.fit(words)"
      ],
      "metadata": {
        "colab": {
          "base_uri": "https://localhost:8080/"
        },
        "id": "JCu1yjGaUrtb",
        "outputId": "fd7821a4-2913-41eb-bb00-6610fe3ae8c2"
      },
      "execution_count": 45,
      "outputs": [
        {
          "output_type": "execute_result",
          "data": {
            "text/plain": [
              "KMeans(max_iter=100, n_clusters=3, n_init=1)"
            ]
          },
          "metadata": {},
          "execution_count": 45
        }
      ]
    },
    {
      "cell_type": "code",
      "source": [
        "order_centroids = model.cluster_centers_.argsort()[:, ::-1]\n",
        "terms = cv.get_feature_names()\n",
        "\n",
        "for i in range(true_k):\n",
        "    print(\"Cluster %d:\" % i),\n",
        "    for ind in order_centroids[i, :10]:\n",
        "        print(' %s' % terms[ind]),\n",
        "    print\n",
        "\n",
        "print(\"\\n\")"
      ],
      "metadata": {
        "colab": {
          "base_uri": "https://localhost:8080/"
        },
        "id": "E09SllUrUxai",
        "outputId": "596309ee-2689-455c-f5e5-7753bcf32fc9"
      },
      "execution_count": 46,
      "outputs": [
        {
          "output_type": "stream",
          "name": "stdout",
          "text": [
            "Cluster 0:\n",
            " games\n",
            " vietnam\n",
            " odekta\n",
            " medali\n",
            " marathon\n",
            " sea\n",
            " raih\n",
            " minggu\n",
            " emas\n",
            " elvina\n",
            "Cluster 1:\n",
            " marathon\n",
            " jakarta\n",
            " odekta\n",
            " naibaho\n",
            " cepat\n",
            " jadi\n",
            " juara\n",
            " games\n",
            " elvina\n",
            " half\n",
            "Cluster 2:\n",
            " jakarta\n",
            " marathon\n",
            " lari\n",
            " ikut\n",
            " event\n",
            " jakartamarathon\n",
            " negara\n",
            " tahun\n",
            " km\n",
            " warga\n",
            "\n",
            "\n"
          ]
        },
        {
          "output_type": "stream",
          "name": "stderr",
          "text": [
            "/usr/local/lib/python3.7/dist-packages/sklearn/utils/deprecation.py:87: FutureWarning: Function get_feature_names is deprecated; get_feature_names is deprecated in 1.0 and will be removed in 1.2. Please use get_feature_names_out instead.\n",
            "  warnings.warn(msg, category=FutureWarning)\n"
          ]
        }
      ]
    },
    {
      "cell_type": "markdown",
      "source": [
        "\n",
        "\n",
        "*   **Menampilkan Dendogram dengan Metode Single Linkage**\n",
        "\n",
        "prosedur ini didasarkan pada jarak terkecil. Jika dua obyek terpisah oleh jarak yang pendek maka kedua obyek tersebut akan digabung menjadi satu cluster daan demikian saterusnya."
      ],
      "metadata": {
        "id": "bSzwsy99z4N7"
      }
    },
    {
      "cell_type": "code",
      "source": [
        "import scipy.cluster.hierarchy as sch\n",
        "X = cv.fit_transform(documents_clean).todense()\n",
        "plt.figure(figsize=(22,12))\n",
        "dendrogram = sch.dendrogram(sch.linkage(X, method = 'single',metric='euclidean'),orientation=\"left\")\n",
        "plt.title('Dendrogram')\n",
        "plt.xlabel('Jarak Single Linkage')\n",
        "plt.ylabel('Nomor Dokumen')\n",
        "plt.show()"
      ],
      "metadata": {
        "colab": {
          "base_uri": "https://localhost:8080/",
          "height": 730
        },
        "id": "s-bRR43My234",
        "outputId": "93bcef6f-bd4e-4680-f3f3-646e3bc84e94"
      },
      "execution_count": 47,
      "outputs": [
        {
          "output_type": "display_data",
          "data": {
            "text/plain": [
              "<Figure size 1584x864 with 1 Axes>"
            ],
            "image/png": "[encoded data removed]"
          },
          "metadata": {
            "needs_background": "light"
          }
        }
      ]
    },
    {
      "cell_type": "markdown",
      "source": [
        "*   **Menampilkan Dendogram dengan Metode Ward**\n",
        "\n",
        "Metode Ward bertujuan untuk memperoleh cluster yang memiliki varians internal cluster yang sekecil mungkin. Metode ini menggunakan Error sums of squares (ESS) dalam kelompok sebagai ukuran homogenitas. Jadi jarak antara dua cluster dalam metode ini berdasarkan total sum of square dua cluster pada masing-masing variabel. \n"
      ],
      "metadata": {
        "id": "yn-XOdynuKFw"
      }
    },
    {
      "cell_type": "code",
      "source": [
        "import scipy.cluster.hierarchy as sch\n",
        "X = cv.fit_transform(documents_clean).todense()\n",
        "plt.figure(figsize=(22,12))\n",
        "dendrogram = sch.dendrogram(sch.linkage(X, method = 'ward',metric='euclidean'),orientation=\"top\")\n",
        "plt.title('Dendrogram')\n",
        "plt.xlabel('Jarak Ward')\n",
        "plt.ylabel('Nomor Dokumen')\n",
        "plt.show()"
      ],
      "metadata": {
        "colab": {
          "base_uri": "https://localhost:8080/",
          "height": 727
        },
        "id": "Dwp2H61ZU3dm",
        "outputId": "75d50e47-1cef-4cd4-893c-72bdd48bb775"
      },
      "execution_count": 48,
      "outputs": [
        {
          "output_type": "display_data",
          "data": {
            "text/plain": [
              "<Figure size 1584x864 with 1 Axes>"
            ],
            "image/png": "[encoded data removed]"
          },
          "metadata": {
            "needs_background": "light"
          }
        }
      ]
    },
    {
      "cell_type": "markdown",
      "source": [
        "\n",
        "\n",
        "*   **Menampilkan Dendogram dengan Metode Average**\n",
        "\n",
        "prosedure ini hampir sama dengan Single Linkage, namun kriteria yang digunakan adalah rata-rata jarak seluruh individu dalam suatu cluster dengan jarak seluruh individu dalam cluster yang lain."
      ],
      "metadata": {
        "id": "Rsu_edPR0cPn"
      }
    },
    {
      "cell_type": "code",
      "source": [
        "import scipy.cluster.hierarchy as sch\n",
        "X = cv.fit_transform(documents_clean).todense()\n",
        "plt.figure(figsize=(22,12))\n",
        "dendrogram = sch.dendrogram(sch.linkage(X, method = 'average',metric='euclidean'),orientation=\"right\")\n",
        "plt.title('Dendrogram')\n",
        "plt.xlabel('Jarak Rerata')\n",
        "plt.ylabel('Nomor Dokumen')\n",
        "plt.show()"
      ],
      "metadata": {
        "colab": {
          "base_uri": "https://localhost:8080/",
          "height": 730
        },
        "id": "26v42jqMU5wu",
        "outputId": "ea3fe812-8260-4729-c16b-e83ce662ec46"
      },
      "execution_count": 49,
      "outputs": [
        {
          "output_type": "display_data",
          "data": {
            "text/plain": [
              "<Figure size 1584x864 with 1 Axes>"
            ],
            "image/png": "[encoded data removed]"
          },
          "metadata": {
            "needs_background": "light"
          }
        }
      ]
    }
  ]
}